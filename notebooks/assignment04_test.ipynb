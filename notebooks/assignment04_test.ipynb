{
 "cells": [
  {
   "cell_type": "code",
   "execution_count": 1,
   "id": "42a4c36f",
   "metadata": {},
   "outputs": [],
   "source": [
    "import imageio.v2 as imageio\n",
    "import numpy as np\n",
    "import matplotlib.pyplot as plt"
   ]
  },
  {
   "cell_type": "code",
   "execution_count": 2,
   "id": "e143bad5",
   "metadata": {},
   "outputs": [],
   "source": [
    "image = (imageio.imread('../assignment04/0.tiff') > 127).astype(np.uint8)"
   ]
  },
  {
   "cell_type": "code",
   "execution_count": 3,
   "id": "2b4a2d42",
   "metadata": {},
   "outputs": [
    {
     "name": "stdout",
     "output_type": "stream",
     "text": [
      "[[0 0 0 0 0 0 0 0 0 0]\n",
      " [0 0 0 0 0 0 0 0 0 0]\n",
      " [0 0 1 0 0 0 0 0 0 0]\n",
      " [0 0 1 0 0 0 0 0 0 0]\n",
      " [0 0 1 0 1 1 1 1 0 0]\n",
      " [0 0 1 0 1 1 1 1 1 0]\n",
      " [0 0 1 0 1 1 1 1 1 0]\n",
      " [0 0 0 0 1 1 1 1 1 0]\n",
      " [0 0 0 0 1 1 1 1 0 0]\n",
      " [0 1 1 1 0 0 0 0 0 1]]\n"
     ]
    }
   ],
   "source": [
    "print(image[:10, :10])"
   ]
  },
  {
   "cell_type": "code",
   "execution_count": 4,
   "id": "9697b30d",
   "metadata": {},
   "outputs": [
    {
     "data": {
      "text/plain": [
       "<matplotlib.image.AxesImage at 0x7f87073986d0>"
      ]
     },
     "execution_count": 4,
     "metadata": {},
     "output_type": "execute_result"
    },
    {
     "data": {
      "image/png": "[encoded data removed]",
      "text/plain": [
       "<Figure size 640x480 with 1 Axes>"
      ]
     },
     "metadata": {},
     "output_type": "display_data"
    }
   ],
   "source": [
    "plt.imshow(image, cmap=\"gray\")"
   ]
  },
  {
   "cell_type": "code",
   "execution_count": 5,
   "id": "00cd4baa",
   "metadata": {},
   "outputs": [],
   "source": [
    "i_k = 5\n",
    "j_k = 5"
   ]
  },
  {
   "cell_type": "code",
   "execution_count": 6,
   "id": "e49e98a6",
   "metadata": {},
   "outputs": [
    {
     "name": "stdout",
     "output_type": "stream",
     "text": [
      "i[5, 5]: 1\n"
     ]
    }
   ],
   "source": [
    "print(f'i[{i_k}, {j_k}]: {image[i_k, j_k]}')"
   ]
  },
  {
   "cell_type": "code",
   "execution_count": 7,
   "id": "21d98234",
   "metadata": {},
   "outputs": [],
   "source": [
    "c = 4"
   ]
  },
  {
   "cell_type": "code",
   "execution_count": 16,
   "id": "d307fd68",
   "metadata": {},
   "outputs": [
    {
     "name": "stdout",
     "output_type": "stream",
     "text": [
      "[0 1]\n"
     ]
    }
   ],
   "source": [
    "image_unique_values = np.unique(image)\n",
    "print(image_unique_values)"
   ]
  },
  {
   "cell_type": "code",
   "execution_count": 18,
   "id": "7287e369",
   "metadata": {},
   "outputs": [
    {
     "data": {
      "text/plain": [
       "1"
      ]
     },
     "execution_count": 18,
     "metadata": {},
     "output_type": "execute_result"
    }
   ],
   "source": [
    "image_unique_values[1]"
   ]
  },
  {
   "cell_type": "code",
   "execution_count": 8,
   "id": "dd2d81b0",
   "metadata": {},
   "outputs": [],
   "source": [
    "class Pixel:\n",
    "    def __init__(self, x, y):\n",
    "        self.x = x\n",
    "        self.y = y\n",
    "    \n",
    "    def __lt__(self, other):\n",
    "        if self.x == other.x:\n",
    "            return self.y < other.y\n",
    "        return self.x < other.x\n",
    "    \n",
    "    def __hash__(self):\n",
    "        return hash((self.x, self.y))\n",
    "    \n",
    "    def __eq__(self, other):\n",
    "        if not isinstance(other, type(self)):\n",
    "            return NotImplemented\n",
    "        return self.x == other.x and self.y == other.y"
   ]
  },
  {
   "cell_type": "code",
   "execution_count": 9,
   "id": "055fb972",
   "metadata": {},
   "outputs": [
    {
     "name": "stdout",
     "output_type": "stream",
     "text": [
      "(15, 15)\n"
     ]
    }
   ],
   "source": [
    "print(image.shape)"
   ]
  },
  {
   "cell_type": "code",
   "execution_count": 10,
   "id": "bcf5e6b1",
   "metadata": {},
   "outputs": [],
   "source": [
    "def flood_fill_stack(image, seed, c):\n",
    "    m, n = image.shape\n",
    "    \n",
    "    target_color = image[seed.x, seed.y]\n",
    "    \n",
    "    if target_color == 0:\n",
    "        fill_color = 1\n",
    "    elif target_color == 1:\n",
    "        fill_color = 0\n",
    "        \n",
    "    connected = set()\n",
    "    \n",
    "    stack = []\n",
    "    stack.append(seed)\n",
    "    \n",
    "    while len(stack) != 0:\n",
    "        curr = stack.pop()\n",
    "        if image[curr.x, curr.y] == target_color:\n",
    "            image[curr.x, curr.y] = fill_color\n",
    "            \n",
    "            if curr != seed:\n",
    "                connected.add(curr)\n",
    "            \n",
    "            if curr.x + 1 < m:\n",
    "                stack.append(Pixel(curr.x + 1, curr.y))\n",
    "            if curr.x - 1 > 0:\n",
    "                stack.append(Pixel(curr.x - 1, curr.y))\n",
    "            if curr.y + 1 < n:\n",
    "                stack.append(Pixel(curr.x, curr.y + 1))\n",
    "            if curr.y - 1 > 0:\n",
    "                stack.append(Pixel(curr.x, curr.y - 1))\n",
    "            \n",
    "            if (c == 8):\n",
    "                if curr.x + 1 < m:\n",
    "                    if curr.y + 1 < n:\n",
    "                        stack.append(Pixel(curr.x + 1, curr.y + 1))\n",
    "                    if curr.y - 1 > 0:\n",
    "                        stack.append(Pixel(curr.x + 1, curr.y - 1))\n",
    "                if curr.x - 1 > 0:\n",
    "                    if curr.y + 1 < n:\n",
    "                        stack.append(Pixel(curr.x - 1, curr.y + 1))\n",
    "                    if curr.y - 1 > 0:\n",
    "                        stack.append(Pixel(curr.x - 1, curr.y - 1)) \n",
    "                \n",
    "    return connected"
   ]
  },
  {
   "cell_type": "code",
   "execution_count": 11,
   "id": "289df0ce",
   "metadata": {},
   "outputs": [],
   "source": [
    "seed = Pixel(i_k, j_k)\n",
    "connected_coords = flood_fill_stack(image, seed, c)"
   ]
  },
  {
   "cell_type": "code",
   "execution_count": 12,
   "id": "436cd618",
   "metadata": {},
   "outputs": [
    {
     "name": "stdout",
     "output_type": "stream",
     "text": [
      "(4 4) (4 5) (4 6) (4 7) (5 4) (5 6) (5 7) (5 8) (6 4) (6 5) (6 6) (6 7) (6 8) (7 4) (7 5) (7 6) (7 7) (7 8) (8 4) (8 5) (8 6) (8 7) "
     ]
    }
   ],
   "source": [
    "for coords in sorted(connected_coords):\n",
    "    print(f'({coords.x} {coords.y})', end=\" \")"
   ]
  },
  {
   "cell_type": "code",
   "execution_count": 13,
   "id": "4668c15e",
   "metadata": {},
   "outputs": [
    {
     "data": {
      "text/plain": [
       "<matplotlib.image.AxesImage at 0x7f87072fca90>"
      ]
     },
     "execution_count": 13,
     "metadata": {},
     "output_type": "execute_result"
    },
    {
     "data": {
      "image/png": "[encoded data removed]",
      "text/plain": [
       "<Figure size 640x480 with 1 Axes>"
      ]
     },
     "metadata": {},
     "output_type": "display_data"
    }
   ],
   "source": [
    "plt.imshow(image, cmap=\"gray\")"
   ]
  }
 ],
 "metadata": {
  "kernelspec": {
   "display_name": "Python 3 (ipykernel)",
   "language": "python",
   "name": "python3"
  },
  "language_info": {
   "codemirror_mode": {
    "name": "ipython",
    "version": 3
   },
   "file_extension": ".py",
   "mimetype": "text/x-python",
   "name": "python",
   "nbconvert_exporter": "python",
   "pygments_lexer": "ipython3",
   "version": "3.10.6"
  }
 },
 "nbformat": 4,
 "nbformat_minor": 5
}
