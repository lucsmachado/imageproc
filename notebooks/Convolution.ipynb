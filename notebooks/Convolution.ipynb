{
 "cells": [
  {
   "cell_type": "code",
   "execution_count": 1,
   "id": "c3de8827",
   "metadata": {},
   "outputs": [],
   "source": [
    "import numpy as np\n",
    "import imageio\n",
    "import matplotlib.pyplot as plt"
   ]
  },
  {
   "cell_type": "code",
   "execution_count": 2,
   "id": "66ea677d",
   "metadata": {},
   "outputs": [
    {
     "name": "stdout",
     "output_type": "stream",
     "text": [
      "[[5 5 2 3 6]\n",
      " [5 6 4 3 3]\n",
      " [0 5 6 2 3]\n",
      " [6 5 2 5 0]\n",
      " [4 3 2 4 1]]\n"
     ]
    }
   ],
   "source": [
    "np.random.seed(125)\n",
    "\n",
    "f = np.random.randint(0, 7, [5, 5])\n",
    "print(f)"
   ]
  },
  {
   "cell_type": "code",
   "execution_count": 22,
   "id": "40906c45",
   "metadata": {},
   "outputs": [
    {
     "data": {
      "text/plain": [
       "<matplotlib.image.AxesImage at 0x7f0653ff0e80>"
      ]
     },
     "execution_count": 22,
     "metadata": {},
     "output_type": "execute_result"
    },
    {
     "data": {
      "image/png": "[encoded data removed]",
      "text/plain": [
       "<Figure size 640x480 with 1 Axes>"
      ]
     },
     "metadata": {},
     "output_type": "display_data"
    }
   ],
   "source": [
    "plt.imshow(f)"
   ]
  },
  {
   "cell_type": "code",
   "execution_count": 7,
   "id": "5179d571",
   "metadata": {},
   "outputs": [
    {
     "name": "stdout",
     "output_type": "stream",
     "text": [
      "[[0.125 0.25  0.   ]\n",
      " [0.125 0.5   0.   ]\n",
      " [0.    0.    0.   ]]\n"
     ]
    }
   ],
   "source": [
    "w = np.matrix([ [1, 2, 0], [1, 4, 0], [0, 0, 0] ]) / 8\n",
    "print(w)"
   ]
  },
  {
   "cell_type": "code",
   "execution_count": 8,
   "id": "67cc855d",
   "metadata": {},
   "outputs": [
    {
     "name": "stdout",
     "output_type": "stream",
     "text": [
      "[[0.    0.    0.   ]\n",
      " [0.    0.5   0.125]\n",
      " [0.    0.25  0.125]]\n"
     ]
    }
   ],
   "source": [
    "wf = np.flip( np.flip(w, 0), 1)\n",
    "print(wf)"
   ]
  },
  {
   "cell_type": "code",
   "execution_count": 9,
   "id": "c278ff9a",
   "metadata": {},
   "outputs": [],
   "source": [
    "x = 1\n",
    "y = 2"
   ]
  },
  {
   "cell_type": "markdown",
   "id": "7d9304cf",
   "metadata": {},
   "source": [
    "$g(x,y)=w(x,y)*f(x,y)=w_f(x,y)\\star f(x,y)$"
   ]
  },
  {
   "cell_type": "code",
   "execution_count": 12,
   "id": "f9cf7301",
   "metadata": {},
   "outputs": [
    {
     "name": "stdout",
     "output_type": "stream",
     "text": [
      "[[0.    0.    0.   ]\n",
      " [0.    2.    0.375]\n",
      " [0.    1.5   0.25 ]]\n"
     ]
    }
   ],
   "source": [
    "mult_1_2 = np.multiply(f[x-1:x+2, y-1:y+2], wf)\n",
    "print(mult_1_2)"
   ]
  },
  {
   "cell_type": "code",
   "execution_count": 14,
   "id": "77374acf",
   "metadata": {},
   "outputs": [
    {
     "name": "stdout",
     "output_type": "stream",
     "text": [
      "4\n"
     ]
    }
   ],
   "source": [
    "g_1_2 = int(np.sum(mult_1_2))\n",
    "print(g_1_2)"
   ]
  },
  {
   "cell_type": "code",
   "execution_count": 15,
   "id": "234efbb5",
   "metadata": {},
   "outputs": [],
   "source": [
    "def conv_point(f, w, x, y, debug=False):\n",
    "    n, m = w.shape\n",
    "    a = int((n-1)/2)\n",
    "    b = int((m-1)/2)\n",
    "    \n",
    "    sub_f = f[x-a:x+a+1, y-b:y+b+1]\n",
    "    \n",
    "    w_flip = np.flip(np.flip(w, 0), 1)\n",
    "    \n",
    "    if (debug == True):\n",
    "        print(\"sub-image f:\\n\", str(sub_f))\n",
    "        print(\"flipped filter:\\n\", str(w_flip))\n",
    "        \n",
    "    value = np.sum(np.multiply(sub_f, w_flip))\n",
    "    return value"
   ]
  },
  {
   "cell_type": "code",
   "execution_count": 16,
   "id": "11697243",
   "metadata": {},
   "outputs": [
    {
     "data": {
      "text/plain": [
       "4.125"
      ]
     },
     "execution_count": 16,
     "metadata": {},
     "output_type": "execute_result"
    }
   ],
   "source": [
    "conv_point(f, w, x, y)"
   ]
  },
  {
   "cell_type": "code",
   "execution_count": 27,
   "id": "b836d687",
   "metadata": {},
   "outputs": [],
   "source": [
    "def img_conv(f, w, debug=False):\n",
    "    n, m = w.shape\n",
    "    a = int((n-1)/2)\n",
    "    b = int((m-1)/2)\n",
    "    N, M = f.shape\n",
    "    \n",
    "    g = np.array(f, copy=True)\n",
    "    \n",
    "    for x in range(a, N-a):\n",
    "        for y in range(b, M-b):\n",
    "            g[x, y] = conv_point(f, w, x, y, debug).astype(np.uint8)\n",
    "    return g"
   ]
  },
  {
   "cell_type": "code",
   "execution_count": 28,
   "id": "41580050",
   "metadata": {},
   "outputs": [
    {
     "name": "stdout",
     "output_type": "stream",
     "text": [
      "[[5 5 2 3 6]\n",
      " [5 5 4 2 3]\n",
      " [0 4 4 2 3]\n",
      " [6 3 2 3 0]\n",
      " [4 3 2 4 1]]\n"
     ]
    }
   ],
   "source": [
    "g = img_conv(f, w)\n",
    "print(g)"
   ]
  },
  {
   "cell_type": "code",
   "execution_count": 29,
   "id": "ee6b9a6d",
   "metadata": {},
   "outputs": [
    {
     "data": {
      "text/plain": [
       "<matplotlib.image.AxesImage at 0x7f0653b639a0>"
      ]
     },
     "execution_count": 29,
     "metadata": {},
     "output_type": "execute_result"
    },
    {
     "data": {
      "image/png": "[encoded data removed]",
      "text/plain": [
       "<Figure size 640x480 with 1 Axes>"
      ]
     },
     "metadata": {},
     "output_type": "display_data"
    }
   ],
   "source": [
    "plt.imshow(g)"
   ]
  },
  {
   "cell_type": "markdown",
   "id": "15ce30b6",
   "metadata": {},
   "source": [
    "Exercise: Implement Zero Padding"
   ]
  }
 ],
 "metadata": {
  "kernelspec": {
   "display_name": "Python 3 (ipykernel)",
   "language": "python",
   "name": "python3"
  },
  "language_info": {
   "codemirror_mode": {
    "name": "ipython",
    "version": 3
   },
   "file_extension": ".py",
   "mimetype": "text/x-python",
   "name": "python",
   "nbconvert_exporter": "python",
   "pygments_lexer": "ipython3",
   "version": "3.10.6"
  }
 },
 "nbformat": 4,
 "nbformat_minor": 5
}
